{
  "nbformat": 4,
  "nbformat_minor": 0,
  "metadata": {
    "colab": {
      "provenance": []
    },
    "kernelspec": {
      "name": "python3",
      "display_name": "Python 3"
    },
    "language_info": {
      "name": "python"
    }
  },
  "cells": [
    {
      "cell_type": "markdown",
      "source": [
        "**write a pogram to import nessesary library for data cleaning.**"
      ],
      "metadata": {
        "id": "y_cKHPFffhoF"
      }
    },
    {
      "cell_type": "code",
      "source": [
        "import pandas as pd\n",
        "import numpy as np"
      ],
      "metadata": {
        "id": "R8gceKFEfJNo"
      },
      "execution_count": 1,
      "outputs": []
    },
    {
      "cell_type": "markdown",
      "source": [
        "Write a program to print out columns with missing values, and shows its amount."
      ],
      "metadata": {
        "id": "MTw1sWmAfvpu"
      }
    },
    {
      "cell_type": "code",
      "source": [
        "d = {'First Score': [100, 90, np.nan, 95],\n",
        "        'Second Score': [30, 45, 56, np.nan],\n",
        "        'Third Score': [np.nan, 40, 80, 98]}\n",
        "df = pd.DataFrame(d)\n",
        "\n",
        "# Checking for missing values using isnull()\n",
        "mv = df.isnull()\n",
        "\n",
        "print(mv)"
      ],
      "metadata": {
        "colab": {
          "base_uri": "https://localhost:8080/"
        },
        "id": "WGicx5q2fuYF",
        "outputId": "a41ba4ed-e95c-4558-93ee-b49790fe8951"
      },
      "execution_count": 2,
      "outputs": [
        {
          "output_type": "stream",
          "name": "stdout",
          "text": [
            "   First Score  Second Score  Third Score\n",
            "0        False         False         True\n",
            "1        False         False        False\n",
            "2         True         False        False\n",
            "3        False          True        False\n"
          ]
        }
      ]
    },
    {
      "cell_type": "markdown",
      "source": [
        "Write a program to find the percentage of missing values in each of the columns."
      ],
      "metadata": {
        "id": "Av2nXgQBgimb"
      }
    },
    {
      "cell_type": "code",
      "source": [
        "df = pd.DataFrame(d)\n",
        "\n",
        "# Calculate the percentage of missing values in each column\n",
        "missing_percentage = df.isnull().mean() * 100\n",
        "\n",
        "# Print the result\n",
        "print(\"Percentage of missing values in each column:\")\n",
        "print(missing_percentage)"
      ],
      "metadata": {
        "colab": {
          "base_uri": "https://localhost:8080/"
        },
        "id": "-3TB2Iw4gaxS",
        "outputId": "ca3c0581-a97b-4506-dbd9-19a54417fcbf"
      },
      "execution_count": 3,
      "outputs": [
        {
          "output_type": "stream",
          "name": "stdout",
          "text": [
            "Percentage of missing values in each column:\n",
            "First Score     25.0\n",
            "Second Score    25.0\n",
            "Third Score     25.0\n",
            "dtype: float64\n"
          ]
        }
      ]
    },
    {
      "cell_type": "markdown",
      "source": [
        "Wririte a program to replace values in the columns"
      ],
      "metadata": {
        "id": "fOUTgTXmlv1v"
      }
    },
    {
      "cell_type": "code",
      "source": [
        "data = {\n",
        "    'Name': ['Alice', 'Bob', 'Charlie'],\n",
        "    'Gender': ['Female', 'Male', 'Male'],\n",
        "    'Age': [25, 30, 22]\n",
        "}\n",
        "\n",
        "df = pd.DataFrame(data)\n",
        "\n",
        "# Replace values in the 'Gender' column\n",
        "df['Gender'] = df['Gender'].replace({'Male': 'M', 'Female': 'F'})\n",
        "\n",
        "# Print updated DataFrame\n",
        "print(df)"
      ],
      "metadata": {
        "colab": {
          "base_uri": "https://localhost:8080/"
        },
        "id": "MX1aci2lkHRy",
        "outputId": "c3161fa0-3661-4967-d793-6319cb88a27b"
      },
      "execution_count": 4,
      "outputs": [
        {
          "output_type": "stream",
          "name": "stdout",
          "text": [
            "      Name Gender  Age\n",
            "0    Alice      F   25\n",
            "1      Bob      M   30\n",
            "2  Charlie      M   22\n"
          ]
        }
      ]
    },
    {
      "cell_type": "markdown",
      "source": [
        "Write a program to remove rows having duplicate values."
      ],
      "metadata": {
        "id": "jAgjelCXnjWk"
      }
    },
    {
      "cell_type": "code",
      "source": [
        "# Sample DataFrame\n",
        "data = {\n",
        "    'roll_no': [101, 102, 103],\n",
        "    'name': ['Ravi', 'Priya', 'Amit'],\n",
        "    'marks': [85, 90, 78]\n",
        "}\n",
        "\n",
        "df = pd.DataFrame(data)\n",
        "\n",
        "# 🔍 Before renaming\n",
        "print(\"Before Renaming:\\n\", df)\n",
        "\n",
        "# 📝 Rename columns\n",
        "df.rename(columns={\n",
        "    'roll_no': 'Roll Number',\n",
        "    'name': 'Student Name',\n",
        "    'marks': 'Score'\n",
        "}, inplace=True)\n",
        "\n",
        "# ✅ After renaming\n",
        "print(\"\\nAfter Renaming:\\n\", df)\n"
      ],
      "metadata": {
        "colab": {
          "base_uri": "https://localhost:8080/"
        },
        "id": "s6J5dmGtl17r",
        "outputId": "9b4dad81-d98e-40c9-a7ac-17857ebb338a"
      },
      "execution_count": 5,
      "outputs": [
        {
          "output_type": "stream",
          "name": "stdout",
          "text": [
            "Before Renaming:\n",
            "    roll_no   name  marks\n",
            "0      101   Ravi     85\n",
            "1      102  Priya     90\n",
            "2      103   Amit     78\n",
            "\n",
            "After Renaming:\n",
            "    Roll Number Student Name  Score\n",
            "0          101         Ravi     85\n",
            "1          102        Priya     90\n",
            "2          103         Amit     78\n"
          ]
        }
      ]
    },
    {
      "cell_type": "markdown",
      "source": [
        "Write a program to change the data type of a column."
      ],
      "metadata": {
        "id": "bPLCd9htnxwL"
      }
    },
    {
      "cell_type": "code",
      "source": [
        "# Sample DataFrame with string type numbers\n",
        "data = {\n",
        "    'roll_no': ['101', '102', '103'],     # string type\n",
        "    'name': ['Ravi', 'Priya', 'Amit'],\n",
        "    'marks': ['85', '90', '78']           # string type\n",
        "}\n",
        "\n",
        "df = pd.DataFrame(data)\n",
        "\n",
        "# 🔍 Before type conversion\n",
        "print(\"Before Type Conversion:\\n\")\n",
        "print(df.dtypes)\n",
        "\n",
        "# 🧠 Convert 'roll_no' and 'marks' to integers\n",
        "df['roll_no'] = df['roll_no'].astype(int)\n",
        "df['marks'] = df['marks'].astype(int)\n",
        "\n",
        "# ✅ After type conversion\n",
        "print(\"\\nAfter Type Conversion:\\n\")\n",
        "print(df.dtypes)\n"
      ],
      "metadata": {
        "colab": {
          "base_uri": "https://localhost:8080/"
        },
        "id": "1XiorW4GnTXf",
        "outputId": "75f46d8e-6e19-49ed-f402-3ef830f8d309"
      },
      "execution_count": 6,
      "outputs": [
        {
          "output_type": "stream",
          "name": "stdout",
          "text": [
            "Before Type Conversion:\n",
            "\n",
            "roll_no    object\n",
            "name       object\n",
            "marks      object\n",
            "dtype: object\n",
            "\n",
            "After Type Conversion:\n",
            "\n",
            "roll_no     int64\n",
            "name       object\n",
            "marks       int64\n",
            "dtype: object\n"
          ]
        }
      ]
    },
    {
      "cell_type": "markdown",
      "source": [
        "  Identify Columns That Contain a Single Value.\n"
      ],
      "metadata": {
        "id": "cF5C6YuVosqB"
      }
    },
    {
      "cell_type": "code",
      "source": [
        "# Sample DataFrame\n",
        "data = {\n",
        "    'name': ['Ravi', 'Priya', 'Amit'],\n",
        "    'course': ['BCA', 'BCA', 'BCA'],       # single value column\n",
        "    'marks': [85, 90, 78],\n",
        "    'status': ['Pass', 'Pass', 'Pass']    # single value column\n",
        "}\n",
        "\n",
        "df = pd.DataFrame(data)\n",
        "\n",
        "# 🔍 Find columns with a single unique value\n",
        "single_value_columns = [col for col in df.columns if df[col].nunique() == 1]\n",
        "\n",
        "# ✅ Output result\n",
        "print(\"Columns with only one unique value:\")\n",
        "print(single_value_columns)\n"
      ],
      "metadata": {
        "colab": {
          "base_uri": "https://localhost:8080/"
        },
        "id": "BrGXVYTkorAE",
        "outputId": "ef84636e-e518-4bbb-c062-fdee634be194"
      },
      "execution_count": 7,
      "outputs": [
        {
          "output_type": "stream",
          "name": "stdout",
          "text": [
            "Columns with only one unique value:\n",
            "['course', 'status']\n"
          ]
        }
      ]
    },
    {
      "cell_type": "markdown",
      "source": [
        "Delete Columns That Contain a Single Value."
      ],
      "metadata": {
        "id": "nHCkEJP7o-wJ"
      }
    },
    {
      "cell_type": "code",
      "source": [
        "# Sample DataFrame\n",
        "data = {\n",
        "    'name': ['Ravi', 'Priya', 'Amit'],\n",
        "    'course': ['BCA', 'BCA', 'BCA'],       # single value column\n",
        "    'marks': [85, 90, 78],\n",
        "    'status': ['Pass', 'Pass', 'Pass']    # single value column\n",
        "}\n",
        "\n",
        "df = pd.DataFrame(data)\n",
        "\n",
        "# 🔍 Identify single-value columns\n",
        "single_value_columns = [col for col in df.columns if df[col].nunique() == 1]\n",
        "\n",
        "# 🧹 Drop them\n",
        "df.drop(columns=single_value_columns, inplace=True)\n",
        "\n",
        "# ✅ Show final DataFrame\n",
        "print(\"DataFrame after removing single-value columns:\\n\")\n",
        "print(df)\n"
      ],
      "metadata": {
        "colab": {
          "base_uri": "https://localhost:8080/"
        },
        "id": "TRun_Gjho5zY",
        "outputId": "2ee0b637-a3a2-4c51-9579-f81b53070590"
      },
      "execution_count": 8,
      "outputs": [
        {
          "output_type": "stream",
          "name": "stdout",
          "text": [
            "DataFrame after removing single-value columns:\n",
            "\n",
            "    name  marks\n",
            "0   Ravi     85\n",
            "1  Priya     90\n",
            "2   Amit     78\n"
          ]
        }
      ]
    },
    {
      "cell_type": "markdown",
      "source": [
        "Consider Columns That Have Very Few Values."
      ],
      "metadata": {
        "id": "WfrNGL93poo2"
      }
    },
    {
      "cell_type": "code",
      "source": [
        "# Sample DataFrame\n",
        "data = {\n",
        "    'Name': ['Alice', 'Bob', 'Charlie'],\n",
        "    'Age': [25, 30, 35],\n",
        "    'City': ['Delhi', 'Mumbai', 'Chennai']\n",
        "}\n",
        "\n",
        "df = pd.DataFrame(data)\n",
        "\n",
        "# ✅ Before renaming\n",
        "print(\"Before Renaming:\\n\", df)\n",
        "\n",
        "# Rename columns\n",
        "df.rename(columns={'Name': 'Full Name', 'Age': 'Years', 'City': 'Location'}, inplace=True)\n",
        "\n",
        "# ✅ After renaming\n",
        "print(\"\\nAfter Renaming:\\n\", df)"
      ],
      "metadata": {
        "colab": {
          "base_uri": "https://localhost:8080/"
        },
        "id": "soBTk3K3pe8F",
        "outputId": "20720264-4fe3-42ac-9692-be79abbf3276"
      },
      "execution_count": 9,
      "outputs": [
        {
          "output_type": "stream",
          "name": "stdout",
          "text": [
            "Before Renaming:\n",
            "       Name  Age     City\n",
            "0    Alice   25    Delhi\n",
            "1      Bob   30   Mumbai\n",
            "2  Charlie   35  Chennai\n",
            "\n",
            "After Renaming:\n",
            "   Full Name  Years Location\n",
            "0     Alice     25    Delhi\n",
            "1       Bob     30   Mumbai\n",
            "2   Charlie     35  Chennai\n"
          ]
        }
      ]
    }
  ]
}